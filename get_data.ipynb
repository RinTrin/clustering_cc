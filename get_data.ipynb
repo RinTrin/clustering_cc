{
  "nbformat": 4,
  "nbformat_minor": 0,
  "metadata": {
    "colab": {
      "name": "get_data",
      "provenance": [],
      "collapsed_sections": [],
      "authorship_tag": "ABX9TyMvJMYIMVbZ8t58qpDCk3zA",
      "include_colab_link": true
    },
    "kernelspec": {
      "name": "python3",
      "display_name": "Python 3"
    },
    "language_info": {
      "name": "python"
    }
  },
  "cells": [
    {
      "cell_type": "markdown",
      "metadata": {
        "id": "view-in-github",
        "colab_type": "text"
      },
      "source": [
        "<a href=\"https://colab.research.google.com/github/RinTrin/patent_clustering_cc/blob/master/get_data.ipynb\" target=\"_parent\"><img src=\"https://colab.research.google.com/assets/colab-badge.svg\" alt=\"Open In Colab\"/></a>"
      ]
    },
    {
      "cell_type": "code",
      "source": [
        "!mv /content/brf_sum_text_folder/brf_sum_text_2010.json /content/brf_sum_text_folder/2010.json"
      ],
      "metadata": {
        "id": "NJzeXmQjnfTc"
      },
      "execution_count": 6,
      "outputs": []
    },
    {
      "cell_type": "code",
      "source": [
        "!pwd\n",
        "import os\n",
        "import pandas as pd\n",
        "import requests\n",
        "import zipfile\n",
        "import io\n",
        "import csv\n",
        "import pickle\n",
        "import json\n",
        "from tqdm import tqdm\n",
        "import numpy as np\n",
        "import gc"
      ],
      "metadata": {
        "colab": {
          "base_uri": "https://localhost:8080/"
        },
        "id": "c1C2TfgG5vtv",
        "outputId": "4976e1a5-c53e-45b2-feb7-8c2280fcca59"
      },
      "execution_count": 1,
      "outputs": [
        {
          "output_type": "stream",
          "name": "stdout",
          "text": [
            "/content\n"
          ]
        }
      ]
    },
    {
      "cell_type": "code",
      "source": [
        "brf_sum_text_folder = \"/content/brf_sum_text_folder/\"\n",
        "os.makedirs(brf_sum_text_folder, exist_ok=True)\n",
        "for year in range(2005, 2022):\n",
        "  json_path = os.path.join(brf_sum_text_folder, f\"{str(year)}.json\")\n",
        "  if os.path.exists(json_path):\n",
        "    print(f\"year :{year} of json already exists!!\")\n",
        "    continue\n",
        "  else:\n",
        "    print(f\"year :{year} isn't exist. Let's make\")\n",
        "  url_path_each = f\"https://s3.amazonaws.com/data.patentsview.org/pregrant_publications/brf_sum_text_{str(year)}.tsv.zip\"\n",
        "  response = requests.get(url_path_each, stream=True)\n",
        "  if '200'==str(response.status_code):\n",
        "    print(f\"year :{year} is succesfully downloaded\")\n",
        "  else:\n",
        "    print(\"something wrong with requests\")\n",
        "    break\n",
        "  \n",
        "  with zipfile.ZipFile(io.BytesIO(response.content)) as zf:\n",
        "    file_name = f\"brf_sum_text_{str(year)}.tsv\"\n",
        "    df_reader = pd.read_csv(zf.open(file_name), delimiter=\"\\t\", quoting = csv.QUOTE_NONNUMERIC, chunksize=1000, dtype={\"id\":np.object, \"document_number\":np.object, \"text\":np.object})\n",
        "    df = pd.concat((r for r in df_reader), ignore_index=True) \n",
        "    json_dict = {}\n",
        "    for idx in tqdm(range(len(df.index))):\n",
        "      row = df.iloc[idx, :]\n",
        "      each_dict = {}\n",
        "      for label in [\"id\", \"document_number\", \"text\"]:\n",
        "        each_dict[label] = row[label]\n",
        "      json_dict[idx] = each_dict\n",
        "    with open(json_path, 'w') as jf:\n",
        "      json.dump(json_dict, jf)\n",
        "    del df\n",
        "    del df_reader\n",
        "    del json_dict\n",
        "    gc.collect()\n",
        "    print(f\"size of the json file is : {os.path.getsize(json_path) / 1024**3:.04f} GB\")\n",
        "    print(f\"year :{year} finished\")"
      ],
      "metadata": {
        "colab": {
          "base_uri": "https://localhost:8080/"
        },
        "id": "fyQ77-bB66Qg",
        "outputId": "f38e336c-c2d3-446d-b049-0662161dd60c"
      },
      "execution_count": null,
      "outputs": [
        {
          "output_type": "stream",
          "name": "stdout",
          "text": [
            "year :2005 of json already exists!!\n",
            "year :2006 of json already exists!!\n",
            "year :2007 of json already exists!!\n",
            "year :2008 of json already exists!!\n",
            "year :2009 of json already exists!!\n",
            "year :2010 of json already exists!!\n",
            "year :2011 of json already exists!!\n",
            "year :2012 isn't exist. Let's make\n",
            "year :2012 is succesfully downloaded\n"
          ]
        },
        {
          "output_type": "stream",
          "name": "stderr",
          "text": [
            "/usr/local/lib/python3.7/dist-packages/ipykernel_launcher.py:20: DeprecationWarning: `np.object` is a deprecated alias for the builtin `object`. To silence this warning, use `object` by itself. Doing this will not modify any behavior and is safe. \n",
            "Deprecated in NumPy 1.20; for more details and guidance: https://numpy.org/devdocs/release/1.20.0-notes.html#deprecations\n",
            "100%|██████████| 331486/331486 [00:36<00:00, 8960.75it/s]\n"
          ]
        },
        {
          "output_type": "stream",
          "name": "stdout",
          "text": [
            "size of the json file is : 3.0323 GB\n",
            "year :2012 finished\n",
            "year :2013 isn't exist. Let's make\n",
            "year :2013 is succesfully downloaded\n"
          ]
        }
      ]
    },
    {
      "cell_type": "code",
      "source": [
        "os.makedirs(\"/content/debug\", exist_ok=True)\n",
        "json_path = \"/content/debug/test.json\"\n",
        "with open(json_path, 'w') as jf:\n",
        "  json.dump(json_dict, jf)"
      ],
      "metadata": {
        "id": "W7JiyEoNdtOq"
      },
      "execution_count": 16,
      "outputs": []
    },
    {
      "cell_type": "code",
      "source": [
        "df.head()"
      ],
      "metadata": {
        "colab": {
          "base_uri": "https://localhost:8080/",
          "height": 337
        },
        "id": "J5jjeJe6bBTp",
        "outputId": "e3264589-e622-4f3c-9d7b-7a38d1fbe145"
      },
      "execution_count": 3,
      "outputs": [
        {
          "output_type": "execute_result",
          "data": {
            "text/plain": [
              "                                     id  document_number  \\\n",
              "0  0ce6578b-de84-11eb-b0cf-121df0c29c1e     2.021000e+10   \n",
              "1  0ce7a3e4-de84-11eb-b0cf-121df0c29c1e     2.021000e+10   \n",
              "2  0ce7e911-de84-11eb-b0cf-121df0c29c1e     2.021000e+10   \n",
              "3  0ce8d628-de84-11eb-b0cf-121df0c29c1e     2.021000e+10   \n",
              "4  0ce8f40d-de84-11eb-b0cf-121df0c29c1e     2.021000e+10   \n",
              "\n",
              "                                                text  \n",
              "0  CROSS-REFERENCES TO RELATED APPLICATIONS\\n\\nTh...  \n",
              "1  TECHNICAL FIELD\\n\\nThis application relates to...  \n",
              "2  CROSS-REFERENCE TO RELATED APPLICATIONS\\n\\nThe...  \n",
              "3  FIELD OF THE DISCLOSURE\\n\\nThis disclosure rel...  \n",
              "4  FIELD OF THE DISCLOSURE\\n\\nThis disclosure rel...  "
            ],
            "text/html": [
              "\n",
              "  <div id=\"df-16259208-03de-46a2-bc3b-bfd4303bbbd4\">\n",
              "    <div class=\"colab-df-container\">\n",
              "      <div>\n",
              "<style scoped>\n",
              "    .dataframe tbody tr th:only-of-type {\n",
              "        vertical-align: middle;\n",
              "    }\n",
              "\n",
              "    .dataframe tbody tr th {\n",
              "        vertical-align: top;\n",
              "    }\n",
              "\n",
              "    .dataframe thead th {\n",
              "        text-align: right;\n",
              "    }\n",
              "</style>\n",
              "<table border=\"1\" class=\"dataframe\">\n",
              "  <thead>\n",
              "    <tr style=\"text-align: right;\">\n",
              "      <th></th>\n",
              "      <th>id</th>\n",
              "      <th>document_number</th>\n",
              "      <th>text</th>\n",
              "    </tr>\n",
              "  </thead>\n",
              "  <tbody>\n",
              "    <tr>\n",
              "      <th>0</th>\n",
              "      <td>0ce6578b-de84-11eb-b0cf-121df0c29c1e</td>\n",
              "      <td>2.021000e+10</td>\n",
              "      <td>CROSS-REFERENCES TO RELATED APPLICATIONS\\n\\nTh...</td>\n",
              "    </tr>\n",
              "    <tr>\n",
              "      <th>1</th>\n",
              "      <td>0ce7a3e4-de84-11eb-b0cf-121df0c29c1e</td>\n",
              "      <td>2.021000e+10</td>\n",
              "      <td>TECHNICAL FIELD\\n\\nThis application relates to...</td>\n",
              "    </tr>\n",
              "    <tr>\n",
              "      <th>2</th>\n",
              "      <td>0ce7e911-de84-11eb-b0cf-121df0c29c1e</td>\n",
              "      <td>2.021000e+10</td>\n",
              "      <td>CROSS-REFERENCE TO RELATED APPLICATIONS\\n\\nThe...</td>\n",
              "    </tr>\n",
              "    <tr>\n",
              "      <th>3</th>\n",
              "      <td>0ce8d628-de84-11eb-b0cf-121df0c29c1e</td>\n",
              "      <td>2.021000e+10</td>\n",
              "      <td>FIELD OF THE DISCLOSURE\\n\\nThis disclosure rel...</td>\n",
              "    </tr>\n",
              "    <tr>\n",
              "      <th>4</th>\n",
              "      <td>0ce8f40d-de84-11eb-b0cf-121df0c29c1e</td>\n",
              "      <td>2.021000e+10</td>\n",
              "      <td>FIELD OF THE DISCLOSURE\\n\\nThis disclosure rel...</td>\n",
              "    </tr>\n",
              "  </tbody>\n",
              "</table>\n",
              "</div>\n",
              "      <button class=\"colab-df-convert\" onclick=\"convertToInteractive('df-16259208-03de-46a2-bc3b-bfd4303bbbd4')\"\n",
              "              title=\"Convert this dataframe to an interactive table.\"\n",
              "              style=\"display:none;\">\n",
              "        \n",
              "  <svg xmlns=\"http://www.w3.org/2000/svg\" height=\"24px\"viewBox=\"0 0 24 24\"\n",
              "       width=\"24px\">\n",
              "    <path d=\"M0 0h24v24H0V0z\" fill=\"none\"/>\n",
              "    <path d=\"M18.56 5.44l.94 2.06.94-2.06 2.06-.94-2.06-.94-.94-2.06-.94 2.06-2.06.94zm-11 1L8.5 8.5l.94-2.06 2.06-.94-2.06-.94L8.5 2.5l-.94 2.06-2.06.94zm10 10l.94 2.06.94-2.06 2.06-.94-2.06-.94-.94-2.06-.94 2.06-2.06.94z\"/><path d=\"M17.41 7.96l-1.37-1.37c-.4-.4-.92-.59-1.43-.59-.52 0-1.04.2-1.43.59L10.3 9.45l-7.72 7.72c-.78.78-.78 2.05 0 2.83L4 21.41c.39.39.9.59 1.41.59.51 0 1.02-.2 1.41-.59l7.78-7.78 2.81-2.81c.8-.78.8-2.07 0-2.86zM5.41 20L4 18.59l7.72-7.72 1.47 1.35L5.41 20z\"/>\n",
              "  </svg>\n",
              "      </button>\n",
              "      \n",
              "  <style>\n",
              "    .colab-df-container {\n",
              "      display:flex;\n",
              "      flex-wrap:wrap;\n",
              "      gap: 12px;\n",
              "    }\n",
              "\n",
              "    .colab-df-convert {\n",
              "      background-color: #E8F0FE;\n",
              "      border: none;\n",
              "      border-radius: 50%;\n",
              "      cursor: pointer;\n",
              "      display: none;\n",
              "      fill: #1967D2;\n",
              "      height: 32px;\n",
              "      padding: 0 0 0 0;\n",
              "      width: 32px;\n",
              "    }\n",
              "\n",
              "    .colab-df-convert:hover {\n",
              "      background-color: #E2EBFA;\n",
              "      box-shadow: 0px 1px 2px rgba(60, 64, 67, 0.3), 0px 1px 3px 1px rgba(60, 64, 67, 0.15);\n",
              "      fill: #174EA6;\n",
              "    }\n",
              "\n",
              "    [theme=dark] .colab-df-convert {\n",
              "      background-color: #3B4455;\n",
              "      fill: #D2E3FC;\n",
              "    }\n",
              "\n",
              "    [theme=dark] .colab-df-convert:hover {\n",
              "      background-color: #434B5C;\n",
              "      box-shadow: 0px 1px 3px 1px rgba(0, 0, 0, 0.15);\n",
              "      filter: drop-shadow(0px 1px 2px rgba(0, 0, 0, 0.3));\n",
              "      fill: #FFFFFF;\n",
              "    }\n",
              "  </style>\n",
              "\n",
              "      <script>\n",
              "        const buttonEl =\n",
              "          document.querySelector('#df-16259208-03de-46a2-bc3b-bfd4303bbbd4 button.colab-df-convert');\n",
              "        buttonEl.style.display =\n",
              "          google.colab.kernel.accessAllowed ? 'block' : 'none';\n",
              "\n",
              "        async function convertToInteractive(key) {\n",
              "          const element = document.querySelector('#df-16259208-03de-46a2-bc3b-bfd4303bbbd4');\n",
              "          const dataTable =\n",
              "            await google.colab.kernel.invokeFunction('convertToInteractive',\n",
              "                                                     [key], {});\n",
              "          if (!dataTable) return;\n",
              "\n",
              "          const docLinkHtml = 'Like what you see? Visit the ' +\n",
              "            '<a target=\"_blank\" href=https://colab.research.google.com/notebooks/data_table.ipynb>data table notebook</a>'\n",
              "            + ' to learn more about interactive tables.';\n",
              "          element.innerHTML = '';\n",
              "          dataTable['output_type'] = 'display_data';\n",
              "          await google.colab.output.renderOutput(dataTable, element);\n",
              "          const docLink = document.createElement('div');\n",
              "          docLink.innerHTML = docLinkHtml;\n",
              "          element.appendChild(docLink);\n",
              "        }\n",
              "      </script>\n",
              "    </div>\n",
              "  </div>\n",
              "  "
            ]
          },
          "metadata": {},
          "execution_count": 3
        }
      ]
    }
  ]
}